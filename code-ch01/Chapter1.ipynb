{
  "cells": [
    {
      "cell_type": "code",
      "execution_count": 4,
      "metadata": {
        "pycharm": {
          "is_executing": false
        }
      },
      "outputs": [],
      "source": [
        "############## PLEASE RUN THIS CELL FIRST! ###################\n",
        "\n",
        "# import everything and define a test runner function\n",
        "from importlib import reload\n",
        "from helper import run\n",
        "import ecc\n",
        "import helper\n",
        "\n",
        "from ecc import FieldElement"
      ]
    },
    {
      "cell_type": "code",
      "execution_count": 5,
      "metadata": {
        "pycharm": {
          "is_executing": false
        }
      },
      "outputs": [
        {
          "name": "stdout",
          "text": [
            "False\nTrue\n"
          ],
          "output_type": "stream"
        }
      ],
      "source": "from ecc import FieldElement\na \u003d FieldElement(7, 13)\nb \u003d FieldElement(6, 13)\nprint(a \u003d\u003d b)\nprint(a \u003d\u003d a)"
    },
    {
      "cell_type": "markdown",
      "metadata": {
        "pycharm": {}
      },
      "source": [
        "### Exercise 1\n",
        "\n",
        "Write the corresponding method `__ne__` which checks if two `FieldElement` objects are _not equal_ to each other.\n",
        "\n",
        "#### Make [this test](/edit/code-ch01/ecc.py) pass: `ecc.py:FieldElementTest:test_ne`"
      ]
    },
    {
      "cell_type": "code",
      "execution_count": 6,
      "metadata": {
        "pycharm": {
          "is_executing": false
        }
      },
      "outputs": [
        {
          "name": "stderr",
          "text": [
            "E",
            "\n\u003d\u003d\u003d\u003d\u003d\u003d\u003d\u003d\u003d\u003d\u003d\u003d\u003d\u003d\u003d\u003d\u003d\u003d\u003d\u003d\u003d\u003d\u003d\u003d\u003d\u003d\u003d\u003d\u003d\u003d\u003d\u003d\u003d\u003d\u003d\u003d\u003d\u003d\u003d\u003d\u003d\u003d\u003d\u003d\u003d\u003d\u003d\u003d\u003d\u003d\u003d\u003d\u003d\u003d\u003d\u003d\u003d\u003d\u003d\u003d\u003d\u003d\u003d\u003d\u003d\u003d\u003d\u003d\u003d\u003d\nERROR: test_ne (ecc.FieldElementTest)\n----------------------------------------------------------------------\nTraceback (most recent call last):\n  File \"C:\\Users\\Andrew\\Projects\\git\\programmingbitcoin\\code-ch01\\ecc.py\", line 77, in test_ne\n    self.assertTrue(a !\u003d c)\n  File \"C:\\Users\\Andrew\\Projects\\git\\programmingbitcoin\\code-ch01\\ecc.py\", line 26, in __ne__\n    raise NotImplementedError\nNotImplementedError\n\n----------------------------------------------------------------------\nRan 1 test in 0.002s\n\nFAILED (errors\u003d1)\n"
          ],
          "output_type": "stream"
        }
      ],
      "source": [
        "# Exercise 1\n",
        "\n",
        "reload(ecc)\n",
        "run(ecc.FieldElementTest(\"test_ne\"))"
      ]
    },
    {
      "cell_type": "code",
      "execution_count": 7,
      "metadata": {
        "pycharm": {
          "is_executing": false
        }
      },
      "outputs": [
        {
          "name": "stdout",
          "text": [
            "1\n"
          ],
          "output_type": "stream"
        }
      ],
      "source": [
        "print(7 % 3)"
      ]
    },
    {
      "cell_type": "code",
      "execution_count": 8,
      "metadata": {
        "pycharm": {
          "is_executing": false
        }
      },
      "outputs": [
        {
          "name": "stdout",
          "text": [
            "12\n"
          ],
          "output_type": "stream"
        }
      ],
      "source": "print(-27 % 13)"
    },
    {
      "cell_type": "markdown",
      "metadata": {
        "pycharm": {}
      },
      "source": "### Exercise 2\n\nSolve these problems in \\\\(F_{57}\\\\) (assume all +\u0027s here are \\\\(+_{f}\\\\) and -`s here \\\\(-_{f}\\\\))\n\n* 44+33\n\n* 9-29\n\n* 17+42+49\n\n*l52-30-38\n"
    },
    {
      "cell_type": "code",
      "execution_count": 1,
      "outputs": [
        {
          "name": "stdout",
          "text": [
            "19\n37\n51\n41\n"
          ],
          "output_type": "stream"
        }
      ],
      "source": "# Exercise 2\n\n# remember that % is the modulo operator\nprime \u003d 57\n# 44+33\nprint((43+33) % prime)\n# 9-29\nprint((9-29) % prime)\n# 17+42+49\nprint((17+42+49) % prime)\n# 52-30-38\nprint((52-30-38) % prime)",
      "metadata": {
        "pycharm": {
          "metadata": false,
          "name": "#%%\n",
          "is_executing": false
        }
      }
    },
    {
      "cell_type": "code",
      "execution_count": 23,
      "metadata": {
        "pycharm": {
          "is_executing": false
        }
      },
      "outputs": [
        {
          "name": "stdout",
          "text": [
            "True\n"
          ],
          "output_type": "stream"
        }
      ],
      "source": "from ecc import FieldElement\n\na \u003d FieldElement(7, 13)\nb \u003d FieldElement(12, 13)\nc \u003d FieldElement(6, 13)\nprint(a+b\u003d\u003dc)"
    },
    {
      "cell_type": "markdown",
      "metadata": {
        "pycharm": {}
      },
      "source": [
        "### Exercise 3\n",
        "\n",
        "Write the corresponding `__sub__` method which defines the subtraction of two `FieldElement` objects.\n",
        "\n",
        "#### Make [this test](/edit/code-ch01/ecc.py) pass: `ecc.py:FieldElementTest:test_sub`"
      ]
    },
    {
      "cell_type": "code",
      "execution_count": 14,
      "metadata": {
        "pycharm": {
          "is_executing": false
        }
      },
      "outputs": [
        {
          "traceback": [
            "\u001b[1;31m---------------------------------------------------------------------------\u001b[0m",
            "\u001b[1;31mNameError\u001b[0m                                 Traceback (most recent call last)",
            "\u001b[1;32m\u003cipython-input-14-69f7b8ae910b\u003e\u001b[0m in \u001b[0;36m\u003cmodule\u003e\u001b[1;34m\u001b[0m\n\u001b[0;32m      2\u001b[0m \u001b[1;33m\u001b[0m\u001b[0m\n\u001b[0;32m      3\u001b[0m \u001b[1;32mimport\u001b[0m \u001b[0mecc\u001b[0m\u001b[1;33m\u001b[0m\u001b[1;33m\u001b[0m\u001b[0m\n\u001b[1;32m----\u003e 4\u001b[1;33m \u001b[0mrun\u001b[0m\u001b[1;33m(\u001b[0m\u001b[0mecc\u001b[0m\u001b[1;33m.\u001b[0m\u001b[0mFieldElementTest\u001b[0m\u001b[1;33m(\u001b[0m\u001b[1;34m\"test_ne\"\u001b[0m\u001b[1;33m)\u001b[0m\u001b[1;33m)\u001b[0m\u001b[1;33m\u001b[0m\u001b[1;33m\u001b[0m\u001b[0m\n\u001b[0m",
            "\u001b[1;31mNameError\u001b[0m: name \u0027run\u0027 is not defined"
          ],
          "ename": "NameError",
          "evalue": "name \u0027run\u0027 is not defined",
          "output_type": "error"
        }
      ],
      "source": "# Exercise 3\n\nimport ecc\necc.FieldElementTest(\"test_ne\")"
    },
    {
      "cell_type": "markdown",
      "metadata": {
        "pycharm": {}
      },
      "source": [
        "### Exercise 4\n",
        "\n",
        "Solve the following equations in \\\\(F_{97}\\\\) (again, assume ⋅ and exponentiation are field versions):\n",
        "\n",
        "* 95⋅45⋅31\n",
        "* 17⋅13⋅19⋅44\n",
        "* \\\\(12^{7}\\\\)⋅\\\\(77^{49}\\\\)"
      ]
    },
    {
      "cell_type": "code",
      "execution_count": 16,
      "metadata": {
        "pycharm": {
          "is_executing": false
        }
      },
      "outputs": [
        {
          "name": "stdout",
          "text": [
            "23\n68\n63\n"
          ],
          "output_type": "stream"
        }
      ],
      "source": "# Exercise 4\n\nprime \u003d 97\ndef printff(a):\n    global prime\n    print(a%prime)\n    \n# 95*45*31\nprintff(95*45*31)\n# 17*13*19*44\nprintff(17*13*19*44)\n# 12**7*77**49\nprintff(12**7*77**49)"
    },
    {
      "cell_type": "markdown",
      "metadata": {
        "pycharm": {}
      },
      "source": [
        "### Exercise 5\n",
        "\n",
        "For k \u003d 1, 3, 7, 13, 18, what is this set in \\\\(F_{19}\\\\)?\n",
        "\n",
        "{k⋅0, k⋅1, k⋅2, k⋅3, ... k⋅18}\n",
        "\n",
        "Do you notice anything about these sets?"
      ]
    },
    {
      "cell_type": "code",
      "execution_count": 20,
      "metadata": {
        "pycharm": {
          "is_executing": false
        }
      },
      "outputs": [
        {
          "name": "stdout",
          "text": [
            "[0, 3, 6, 9, 12, 15, 18, 2, 5, 8, 11, 14, 17, 1, 4, 7, 10, 13, 16]\n[0, 7, 14, 2, 9, 16, 4, 11, 18, 6, 13, 1, 8, 15, 3, 10, 17, 5, 12]\n[0, 13, 7, 1, 14, 8, 2, 15, 9, 3, 16, 10, 4, 17, 11, 5, 18, 12, 6]\n[0, 18, 17, 16, 15, 14, 13, 12, 11, 10, 9, 8, 7, 6, 5, 4, 3, 2, 1]\n[0, 1, 2, 3, 4, 5, 6, 7, 8, 9, 10, 11, 12, 13, 14, 15, 16, 17, 18]\n[0, 1, 2, 3, 4, 5, 6, 7, 8, 9, 10, 11, 12, 13, 14, 15, 16, 17, 18]\n[0, 1, 2, 3, 4, 5, 6, 7, 8, 9, 10, 11, 12, 13, 14, 15, 16, 17, 18]\n[0, 1, 2, 3, 4, 5, 6, 7, 8, 9, 10, 11, 12, 13, 14, 15, 16, 17, 18]\n"
          ],
          "output_type": "stream"
        }
      ],
      "source": "# Exercise 5\n\nprime \u003d 19\nk \u003d 1  # 3, 7, 13 and 18 are the other possibilities\n# loop through all possible k\u0027s 0 up to prime-1\n# calculate k*iterator % prime\n\n\nfor k in [3,7,13,18]:\n    print( list((k*i)% prime for i in range(prime)) ) \n    \nfor k in [3,7,13,18]:\n    print( sorted(list((k*i)% prime for i in range(prime))) )\n\n# Hint - sort!"
    },
    {
      "cell_type": "code",
      "execution_count": 22,
      "metadata": {
        "pycharm": {
          "is_executing": false
        }
      },
      "outputs": [
        {
          "traceback": [
            "\u001b[1;31m---------------------------------------------------------------------------\u001b[0m",
            "\u001b[1;31mNotImplementedError\u001b[0m                       Traceback (most recent call last)",
            "\u001b[1;32m\u003cipython-input-22-04428cfd0b68\u003e\u001b[0m in \u001b[0;36m\u003cmodule\u003e\u001b[1;34m\u001b[0m\n\u001b[0;32m      3\u001b[0m \u001b[0mb\u001b[0m \u001b[1;33m\u003d\u001b[0m \u001b[0mFieldElement\u001b[0m\u001b[1;33m(\u001b[0m\u001b[1;36m12\u001b[0m\u001b[1;33m,\u001b[0m \u001b[1;36m13\u001b[0m\u001b[1;33m)\u001b[0m\u001b[1;33m\u001b[0m\u001b[1;33m\u001b[0m\u001b[0m\n\u001b[0;32m      4\u001b[0m \u001b[0mc\u001b[0m \u001b[1;33m\u003d\u001b[0m \u001b[0mFieldElement\u001b[0m\u001b[1;33m(\u001b[0m\u001b[1;36m10\u001b[0m\u001b[1;33m,\u001b[0m \u001b[1;36m13\u001b[0m\u001b[1;33m)\u001b[0m\u001b[1;33m\u001b[0m\u001b[1;33m\u001b[0m\u001b[0m\n\u001b[1;32m----\u003e 5\u001b[1;33m \u001b[0mprint\u001b[0m\u001b[1;33m(\u001b[0m\u001b[0ma\u001b[0m\u001b[1;33m*\u001b[0m\u001b[0mb\u001b[0m\u001b[1;33m\u003d\u003d\u001b[0m\u001b[0mc\u001b[0m\u001b[1;33m)\u001b[0m\u001b[1;33m\u001b[0m\u001b[1;33m\u001b[0m\u001b[0m\n\u001b[0m",
            "\u001b[1;32m~\\Projects\\git\\programmingbitcoin\\code-ch01\\ecc.py\u001b[0m in \u001b[0;36m__mul__\u001b[1;34m(self, other)\u001b[0m\n\u001b[0;32m     48\u001b[0m         \u001b[1;31m# self.prime is what we need to mod against\u001b[0m\u001b[1;33m\u001b[0m\u001b[1;33m\u001b[0m\u001b[1;33m\u001b[0m\u001b[0m\n\u001b[0;32m     49\u001b[0m         \u001b[1;31m# We return an element of the same class\u001b[0m\u001b[1;33m\u001b[0m\u001b[1;33m\u001b[0m\u001b[1;33m\u001b[0m\u001b[0m\n\u001b[1;32m---\u003e 50\u001b[1;33m         \u001b[1;32mraise\u001b[0m \u001b[0mNotImplementedError\u001b[0m\u001b[1;33m\u001b[0m\u001b[1;33m\u001b[0m\u001b[0m\n\u001b[0m\u001b[0;32m     51\u001b[0m \u001b[1;33m\u001b[0m\u001b[0m\n\u001b[0;32m     52\u001b[0m     \u001b[1;31m# tag::source3[]\u001b[0m\u001b[1;33m\u001b[0m\u001b[1;33m\u001b[0m\u001b[1;33m\u001b[0m\u001b[0m\n",
            "\u001b[1;31mNotImplementedError\u001b[0m: "
          ],
          "ename": "NotImplementedError",
          "evalue": "",
          "output_type": "error"
        }
      ],
      "source": [
        "from ecc import FieldElement\n",
        "a \u003d FieldElement(3, 13)\n",
        "b \u003d FieldElement(12, 13)\n",
        "c \u003d FieldElement(10, 13)\n",
        "print(a*b\u003d\u003dc)"
      ]
    },
    {
      "cell_type": "markdown",
      "metadata": {
        "pycharm": {}
      },
      "source": [
        "### Exercise 6\n",
        "\n",
        "Write the corresponding `__mul__` method which defines the multiplication of two Finite Field elements.\n",
        "\n",
        "#### Make [this test](/edit/code-ch01/ecc.py) pass: `ecc.py:FieldElementTest:test_mul`"
      ]
    },
    {
      "cell_type": "code",
      "execution_count": 39,
      "metadata": {
        "pycharm": {
          "is_executing": false
        }
      },
      "outputs": [
        {
          "data": {
            "text/plain": "\u003cecc.FieldElementTest testMethod\u003dtest_mul\u003e"
          },
          "metadata": {},
          "output_type": "execute_result",
          "execution_count": 39
        }
      ],
      "source": "# Exercise 6\n\ndef FieldMul(self, other):\n    if not isinstance(other, FieldElement):\n        raise TypeError(\"Second argument must be of FieldElement Class\")\n    if self.prime !\u003d other.prime:\n        raise TypeError(\u0027Cannot multiply two numbers in different Fields\u0027)\n    \n    num \u003d (self.num * other.num) % self.prime\n    return self.__class__(num, self.prime)\n\necc.FieldElement.__mul__ \u003d 4\n\n\necc.FieldElementTest(\"test_mul\")"
    },
    {
      "cell_type": "code",
      "execution_count": 40,
      "metadata": {
        "pycharm": {
          "is_executing": false
        }
      },
      "outputs": [
        {
          "name": "stdout",
          "text": [
            "True\n"
          ],
          "output_type": "stream"
        }
      ],
      "source": "from ecc import FieldElement\na \u003d FieldElement(3, 13)\nb \u003d FieldElement(1, 13)\nprint(a**3\u003d\u003db)"
    },
    {
      "cell_type": "markdown",
      "metadata": {
        "pycharm": {}
      },
      "source": [
        "### Exercise 7\n",
        "\n",
        "For p \u003d 7, 11, 17, 31, what is this set in \\\\(F_{p}\\\\)?\n",
        "\n",
        "{\\\\(1^{(p-1)}\\\\), \\\\(2^{(p-1)}\\\\), \\\\(3^{(p-1)}\\\\), \\\\(4^{(p-1)}\\\\), ... \\\\((p-1)^{(p-1)}\\\\)}"
      ]
    },
    {
      "cell_type": "code",
      "execution_count": null,
      "metadata": {
        "pycharm": {}
      },
      "outputs": [],
      "source": [
        "# Exercise 7\n",
        "\n",
        "primes \u003d [7, 11, 17, 31, 43]"
      ]
    },
    {
      "cell_type": "markdown",
      "metadata": {
        "pycharm": {}
      },
      "source": [
        "### Exercise 8\n",
        "\n",
        "Solve the following equations in \\\\(F_{31}\\\\):\n",
        "\n",
        "* 3 / 24\n",
        "* \\\\(17^{-3}\\\\)\n",
        "* \\\\(4^{-4}\\\\)⋅11"
      ]
    },
    {
      "cell_type": "code",
      "execution_count": null,
      "metadata": {
        "pycharm": {}
      },
      "outputs": [],
      "source": [
        "# Exercise 8\n",
        "\n",
        "# 3/24\n",
        "# 17**-3\n",
        "# 4**-4*11"
      ]
    },
    {
      "cell_type": "markdown",
      "metadata": {
        "pycharm": {}
      },
      "source": [
        "### Exercise 9\n",
        "\n",
        "Write the corresponding `__truediv__` method which defines the division of two field elements.\n",
        "\n",
        "Note that in Python3, division is separated into `__truediv__` and `__floordiv__`. The first does normal division, the second does integer division.\n",
        "\n",
        "#### Make [this test](/edit/code-ch01/ecc.py) pass: `ecc.py:FieldElementTest:test_div`"
      ]
    },
    {
      "cell_type": "code",
      "execution_count": null,
      "metadata": {
        "pycharm": {}
      },
      "outputs": [],
      "source": [
        "# Exercise 9\n",
        "\n",
        "reload(ecc)\n",
        "run(ecc.FieldElementTest(\"test_div\"))"
      ]
    },
    {
      "cell_type": "code",
      "execution_count": null,
      "metadata": {
        "pycharm": {}
      },
      "outputs": [],
      "source": [
        "from ecc import FieldElement\n",
        "a \u003d FieldElement(7, 13)\n",
        "b \u003d FieldElement(8, 13)\n",
        "print(a**-3\u003d\u003db)"
      ]
    }
  ],
  "metadata": {
    "kernelspec": {
      "name": "python3",
      "language": "python",
      "display_name": "Python 3"
    }
  },
  "nbformat": 4,
  "nbformat_minor": 2
}